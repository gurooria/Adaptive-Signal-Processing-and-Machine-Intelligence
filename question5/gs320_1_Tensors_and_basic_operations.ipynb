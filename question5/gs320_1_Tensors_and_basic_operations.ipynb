{
 "cells": [
  {
   "cell_type": "code",
   "execution_count": 2,
   "metadata": {},
   "outputs": [],
   "source": [
    "%load_ext autoreload\n",
    "%autoreload 2\n",
    "%matplotlib inline"
   ]
  },
  {
   "cell_type": "code",
   "execution_count": 3,
   "metadata": {},
   "outputs": [],
   "source": [
    "import numpy as np\n",
    "import matplotlib.pyplot as plt\n",
    "from hottbox.core import Tensor"
   ]
  },
  {
   "cell_type": "markdown",
   "metadata": {
    "toc-hr-collapsed": false
   },
   "source": [
    "[Return to Table of Contents](./0_Table_of_contents.ipynb)"
   ]
  },
  {
   "cell_type": "markdown",
   "metadata": {
    "toc-hr-collapsed": false
   },
   "source": [
    "# Tensors and basic operations"
   ]
  },
  {
   "cell_type": "markdown",
   "metadata": {},
   "source": []
  },
  {
   "cell_type": "markdown",
   "metadata": {
    "toc-hr-collapsed": true
   },
   "source": [
    "<img src=\"./imgs/tensors_dogs.jpg\" alt=\"Drawing\" style=\"width: 500px;\"/>\n",
    "\n",
    "A tensor is a multi-dimenaional array of data where each dimension is conventionally referred to as the **mode**. Tensor order is defined by the number of its modes which is equivivalent to the number of indices required to identify a particular entry of a multi-dimensional array. For ease of visualisation and compact notation, we consider a third order tensor $\\mathbf{\\underline{X}} \\in \\mathbb{R}^{I \\times J \\times K}$. Thus, an element of such a tensor, $\\mathbf{\\underline{X}} \\in \\mathbb{R}^{I \\times J \\times K}$, can be written in a general form as:\n",
    "\n",
    "$$ x_{ijk} = \\mathbf{\\underline{X}}[i, j, k]$$\n",
    "\n",
    "> **Note:** In order to be consistent with Python indexing, count of modes and elements within starts from zeros.\n",
    "\n",
    "Creation of a tensor starts with a formation of a multidimensional array of data."
   ]
  },
  {
   "cell_type": "code",
   "execution_count": 4,
   "metadata": {},
   "outputs": [
    {
     "name": "stdout",
     "output_type": "stream",
     "text": [
      "This tensor is of order 3 and consists of 24 elements.\n",
      "Sizes and names of its modes are (2, 3, 4) and ['mode-0', 'mode-1', 'mode-2'] respectively.\n"
     ]
    },
    {
     "data": {
      "text/plain": [
       "array([[[ 0,  1,  2,  3],\n",
       "        [ 4,  5,  6,  7],\n",
       "        [ 8,  9, 10, 11]],\n",
       "\n",
       "       [[12, 13, 14, 15],\n",
       "        [16, 17, 18, 19],\n",
       "        [20, 21, 22, 23]]])"
      ]
     },
     "execution_count": 4,
     "metadata": {},
     "output_type": "execute_result"
    }
   ],
   "source": [
    "# Create 3-d array of data\n",
    "array_3d = np.arange(24).reshape((2, 3, 4)) # 2x3x4 array\n",
    "\n",
    "# Create tensor\n",
    "tensor = Tensor(array_3d)\n",
    "\n",
    "# Result preview\n",
    "print(tensor)\n",
    "tensor.data"
   ]
  },
  {
   "cell_type": "markdown",
   "metadata": {
    "toc-hr-collapsed": true
   },
   "source": [
    "## **Assigment 1**\n",
    "\n",
    "1. Create a tensor of order 5 (of any shape) and with all its values equal to 5. Then, calculate its Frobenious norm. \n",
    "2. Construct several tensors of orders varying from 3 to 20, with the size of each dimension equal to 2. Plot the relation between an order of a tensor and the number of its elements.\n",
    "3. Construct several tensors of order 3 with the size of each dimension varying from 3 to 15. Plot the relation between the size of dimensions of a tensor and the number of its elements.\n",
    "4. Analyse and compare the so obtained graphs."
   ]
  },
  {
   "cell_type": "markdown",
   "metadata": {},
   "source": [
    "### Solution: Part 1"
   ]
  },
  {
   "cell_type": "code",
   "execution_count": 5,
   "metadata": {},
   "outputs": [
    {
     "name": "stdout",
     "output_type": "stream",
     "text": [
      "This tensor is of order 5 and consists of 144 elements.\n",
      "Sizes and names of its modes are (2, 2, 3, 3, 4) and ['mode-0', 'mode-1', 'mode-2', 'mode-3', 'mode-4'] respectively.\n"
     ]
    },
    {
     "data": {
      "text/plain": [
       "array([[[[[5., 5., 5., 5.],\n",
       "          [5., 5., 5., 5.],\n",
       "          [5., 5., 5., 5.]],\n",
       "\n",
       "         [[5., 5., 5., 5.],\n",
       "          [5., 5., 5., 5.],\n",
       "          [5., 5., 5., 5.]],\n",
       "\n",
       "         [[5., 5., 5., 5.],\n",
       "          [5., 5., 5., 5.],\n",
       "          [5., 5., 5., 5.]]],\n",
       "\n",
       "\n",
       "        [[[5., 5., 5., 5.],\n",
       "          [5., 5., 5., 5.],\n",
       "          [5., 5., 5., 5.]],\n",
       "\n",
       "         [[5., 5., 5., 5.],\n",
       "          [5., 5., 5., 5.],\n",
       "          [5., 5., 5., 5.]],\n",
       "\n",
       "         [[5., 5., 5., 5.],\n",
       "          [5., 5., 5., 5.],\n",
       "          [5., 5., 5., 5.]]]],\n",
       "\n",
       "\n",
       "\n",
       "       [[[[5., 5., 5., 5.],\n",
       "          [5., 5., 5., 5.],\n",
       "          [5., 5., 5., 5.]],\n",
       "\n",
       "         [[5., 5., 5., 5.],\n",
       "          [5., 5., 5., 5.],\n",
       "          [5., 5., 5., 5.]],\n",
       "\n",
       "         [[5., 5., 5., 5.],\n",
       "          [5., 5., 5., 5.],\n",
       "          [5., 5., 5., 5.]]],\n",
       "\n",
       "\n",
       "        [[[5., 5., 5., 5.],\n",
       "          [5., 5., 5., 5.],\n",
       "          [5., 5., 5., 5.]],\n",
       "\n",
       "         [[5., 5., 5., 5.],\n",
       "          [5., 5., 5., 5.],\n",
       "          [5., 5., 5., 5.]],\n",
       "\n",
       "         [[5., 5., 5., 5.],\n",
       "          [5., 5., 5., 5.],\n",
       "          [5., 5., 5., 5.]]]]])"
      ]
     },
     "execution_count": 5,
     "metadata": {},
     "output_type": "execute_result"
    }
   ],
   "source": [
    "# Create a 5D array of data\n",
    "sizes = (2, 2, 3, 3, 4)\n",
    "array_5d = 5 * np.ones(np.prod(sizes)).reshape(sizes) # 2x2x4x4x6 array, order 5\n",
    "\n",
    "# Create tensor\n",
    "tensor = Tensor(array_5d)\n",
    "\n",
    "# Result preview\n",
    "print(tensor)\n",
    "tensor.data"
   ]
  },
  {
   "cell_type": "code",
   "execution_count": 6,
   "metadata": {},
   "outputs": [
    {
     "name": "stdout",
     "output_type": "stream",
     "text": [
      "60.0\n"
     ]
    }
   ],
   "source": [
    "# Calculate Frobenious norm\n",
    "frob_norm = np.linalg.norm(tensor.data)\n",
    "print(frob_norm)"
   ]
  },
  {
   "cell_type": "markdown",
   "metadata": {},
   "source": [
    "### Solution: Part 2"
   ]
  },
  {
   "cell_type": "code",
   "execution_count": 7,
   "metadata": {},
   "outputs": [],
   "source": [
    "# Create tensors and collect information\n",
    "num_elements = [] # list to store number of elements in each tensor\n",
    "for i in range(3, 21): # loop through orders\n",
    "    tensor = Tensor(np.ones(tuple(2*np.ones(i).astype('int')))) # crease array of size 2 with order i\n",
    "    num_elements.append(tensor.size)"
   ]
  },
  {
   "cell_type": "code",
   "execution_count": 8,
   "metadata": {},
   "outputs": [
    {
     "data": {
      "image/png": "[encoded data removed]",
      "text/plain": [
       "<Figure size 640x480 with 1 Axes>"
      ]
     },
     "metadata": {},
     "output_type": "display_data"
    }
   ],
   "source": [
    "# Plot results\n",
    "plt.plot(np.arange(3, 21), num_elements)\n",
    "plt.xlabel('Tensor Order')\n",
    "plt.ylabel('Total Number of Elements')\n",
    "plt.title('Total Number of Elements vs. Tensor Order, Dimension Size = 2')\n",
    "plt.show()"
   ]
  },
  {
   "cell_type": "markdown",
   "metadata": {},
   "source": [
    "### Solution: Part 3"
   ]
  },
  {
   "cell_type": "code",
   "execution_count": 9,
   "metadata": {},
   "outputs": [],
   "source": [
    "# Create tensors and collect information\n",
    "num_elements = []\n",
    "for i in range(3, 16): # loop through dimensions\n",
    "    tensor = Tensor(np.ones(tuple(i*np.ones(3).astype('int')))) # array of 1s x number of dimensions, order 3\n",
    "    num_elements.append(tensor.size)"
   ]
  },
  {
   "cell_type": "code",
   "execution_count": 10,
   "metadata": {},
   "outputs": [
    {
     "data": {
      "image/png": "[encoded data removed]",
      "text/plain": [
       "<Figure size 640x480 with 1 Axes>"
      ]
     },
     "metadata": {},
     "output_type": "display_data"
    }
   ],
   "source": [
    "# Plot results\n",
    "plt.plot(np.arange(3,16), num_elements)\n",
    "plt.xlabel('Dimension Size')\n",
    "plt.ylabel('Total Number of Elements')\n",
    "plt.title('Total Number of Elements vs. Dimension Size, Order = 3')\n",
    "plt.show()"
   ]
  },
  {
   "cell_type": "markdown",
   "metadata": {},
   "source": [
    "### Solution: Part 4"
   ]
  },
  {
   "cell_type": "markdown",
   "metadata": {},
   "source": [
    "We can formulate the total number of elements $X$ in a tensor by the following:\n",
    "\\begin{equation}\n",
    "X = \\Pi_{i=1}^{O} N_{i}\n",
    "\\end{equation}\n",
    "Where $O$ is the order (total number of dimensions) and $N_{i}$ is the number of elements in each dimension. For a fixed number of elements $N=2$ in each dimension, the formula reduces to $X = 2^{O}$ which suggests an exponential relationship - the plot in solution part 2 demonstrates that the total number of elements $X$ increases expoentially when the tensor order $O$ increases from $3$ to $20$. In comparison, when the number of elements in each dimension (dimension size) is set to vary for a fixed order $O=3$, the formula becomes $X = N^{3}$, given that all dimensions have the same size $N$. We therefore observe a cubic relationship between $X$ and $N$ in the plot shown in solution part 3. From this we see that compared to increasing the dimension size of a tensor, increasing its order causes the total number of elements to increase more rapidly (i.e. exponential vs. cubic), causing it to suffer more from the \"Curse of Dimensionality\". The \"Curse of Dimensionality\" is a term coined by Richard Bellman that refers to the  phenomenon where the difficulty of analyzing and organizing data (e.g. computational complexity, volume of storage space etc.) increases exponentially as the dimensionality of the data increases. In the context of a tensor, increasing its order would require an exponentially growing amount of computational effort to store as well as performing operations on the tensor."
   ]
  },
  {
   "cell_type": "markdown",
   "metadata": {
    "toc-hr-collapsed": false
   },
   "source": [
    "# Most common tensor substructures\n",
    "<img src=\"./imgs/tensor_substructures.png\" alt=\"Drawing\" style=\"width: 500px;\"/>\n",
    "\n",
    "1. A **fiber** is a vector obtained by fixing all but one of the indices, e.g.  $\\mathbf{\\underline{X}}[i,:,k]$ is the mode-2 fiber $\\mathbf{\\underline{X}}$ (usually refered to as row fiber). \n",
    "\n",
    "1. Fixing all but two of the indices yields a matrix called a **slice** of a tensor, e.g. $\\mathbf{\\underline{X}}[:,:,k]$ is the mode-[1,2] slice (usually refered to as the frontal slice).\n",
    "\n",
    "**Note:** The same principles and definitions can be applied to a tensor of an arbitrarily large order. In addition, you can obtain a **subtensor** by fixing at least three indices and letting the remaining ones vary."
   ]
  },
  {
   "cell_type": "code",
   "execution_count": 11,
   "metadata": {},
   "outputs": [
    {
     "data": {
      "text/plain": [
       "array([1., 1., 1., 1., 1., 1., 1., 1., 1., 1., 1., 1., 1., 1., 1.])"
      ]
     },
     "execution_count": 11,
     "metadata": {},
     "output_type": "execute_result"
    }
   ],
   "source": [
    "# Mode-2 fiber\n",
    "tensor.data[0,1,:]"
   ]
  },
  {
   "cell_type": "code",
   "execution_count": 12,
   "metadata": {},
   "outputs": [
    {
     "data": {
      "text/plain": [
       "array([[1., 1., 1., 1., 1., 1., 1., 1., 1., 1., 1., 1., 1., 1., 1.],\n",
       "       [1., 1., 1., 1., 1., 1., 1., 1., 1., 1., 1., 1., 1., 1., 1.],\n",
       "       [1., 1., 1., 1., 1., 1., 1., 1., 1., 1., 1., 1., 1., 1., 1.],\n",
       "       [1., 1., 1., 1., 1., 1., 1., 1., 1., 1., 1., 1., 1., 1., 1.],\n",
       "       [1., 1., 1., 1., 1., 1., 1., 1., 1., 1., 1., 1., 1., 1., 1.],\n",
       "       [1., 1., 1., 1., 1., 1., 1., 1., 1., 1., 1., 1., 1., 1., 1.],\n",
       "       [1., 1., 1., 1., 1., 1., 1., 1., 1., 1., 1., 1., 1., 1., 1.],\n",
       "       [1., 1., 1., 1., 1., 1., 1., 1., 1., 1., 1., 1., 1., 1., 1.],\n",
       "       [1., 1., 1., 1., 1., 1., 1., 1., 1., 1., 1., 1., 1., 1., 1.],\n",
       "       [1., 1., 1., 1., 1., 1., 1., 1., 1., 1., 1., 1., 1., 1., 1.],\n",
       "       [1., 1., 1., 1., 1., 1., 1., 1., 1., 1., 1., 1., 1., 1., 1.],\n",
       "       [1., 1., 1., 1., 1., 1., 1., 1., 1., 1., 1., 1., 1., 1., 1.],\n",
       "       [1., 1., 1., 1., 1., 1., 1., 1., 1., 1., 1., 1., 1., 1., 1.],\n",
       "       [1., 1., 1., 1., 1., 1., 1., 1., 1., 1., 1., 1., 1., 1., 1.],\n",
       "       [1., 1., 1., 1., 1., 1., 1., 1., 1., 1., 1., 1., 1., 1., 1.]])"
      ]
     },
     "execution_count": 12,
     "metadata": {},
     "output_type": "execute_result"
    }
   ],
   "source": [
    "# Frontal slice\n",
    "tensor.data[0,:,:]"
   ]
  },
  {
   "cell_type": "markdown",
   "metadata": {
    "toc-hr-collapsed": true
   },
   "source": [
    "## **Assigment 2**\n",
    "\n",
    "1. Create a tensor of order 4 which consists of 81 elements and display all its horizontal slices and any five row fibers.\n",
    "2. Create a tensor of order 3 and shape `(4,2,5)`, where the values of each consequent frontal slice are doubled."
   ]
  },
  {
   "cell_type": "markdown",
   "metadata": {},
   "source": [
    "### Solution: Part 1"
   ]
  },
  {
   "cell_type": "code",
   "execution_count": 13,
   "metadata": {},
   "outputs": [
    {
     "name": "stdout",
     "output_type": "stream",
     "text": [
      "This tensor is of order 4 and consists of 81 elements.\n",
      "Sizes and names of its modes are (3, 3, 3, 3) and ['mode-0', 'mode-1', 'mode-2', 'mode-3'] respectively.\n"
     ]
    },
    {
     "data": {
      "text/plain": [
       "array([[[[ 0,  1,  2],\n",
       "         [ 3,  4,  5],\n",
       "         [ 6,  7,  8]],\n",
       "\n",
       "        [[ 9, 10, 11],\n",
       "         [12, 13, 14],\n",
       "         [15, 16, 17]],\n",
       "\n",
       "        [[18, 19, 20],\n",
       "         [21, 22, 23],\n",
       "         [24, 25, 26]]],\n",
       "\n",
       "\n",
       "       [[[27, 28, 29],\n",
       "         [30, 31, 32],\n",
       "         [33, 34, 35]],\n",
       "\n",
       "        [[36, 37, 38],\n",
       "         [39, 40, 41],\n",
       "         [42, 43, 44]],\n",
       "\n",
       "        [[45, 46, 47],\n",
       "         [48, 49, 50],\n",
       "         [51, 52, 53]]],\n",
       "\n",
       "\n",
       "       [[[54, 55, 56],\n",
       "         [57, 58, 59],\n",
       "         [60, 61, 62]],\n",
       "\n",
       "        [[63, 64, 65],\n",
       "         [66, 67, 68],\n",
       "         [69, 70, 71]],\n",
       "\n",
       "        [[72, 73, 74],\n",
       "         [75, 76, 77],\n",
       "         [78, 79, 80]]]])"
      ]
     },
     "execution_count": 13,
     "metadata": {},
     "output_type": "execute_result"
    }
   ],
   "source": [
    "# Create a tensor of order 4\n",
    "array_4d = np.arange(81).reshape((3,3,3,3))\n",
    "tensor = Tensor(array_4d)\n",
    "print(tensor)\n",
    "tensor.data"
   ]
  },
  {
   "cell_type": "code",
   "execution_count": 14,
   "metadata": {},
   "outputs": [
    {
     "name": "stdout",
     "output_type": "stream",
     "text": [
      "Horizontal Slice of tensor(0,:,:,0)\n",
      "[[ 0  3  6]\n",
      " [ 9 12 15]\n",
      " [18 21 24]]\n",
      "Horizontal Slice of tensor(0,:,:,1)\n",
      "[[ 1  4  7]\n",
      " [10 13 16]\n",
      " [19 22 25]]\n",
      "Horizontal Slice of tensor(0,:,:,2)\n",
      "[[ 2  5  8]\n",
      " [11 14 17]\n",
      " [20 23 26]]\n",
      "Horizontal Slice of tensor(1,:,:,0)\n",
      "[[27 30 33]\n",
      " [36 39 42]\n",
      " [45 48 51]]\n",
      "Horizontal Slice of tensor(1,:,:,1)\n",
      "[[28 31 34]\n",
      " [37 40 43]\n",
      " [46 49 52]]\n",
      "Horizontal Slice of tensor(1,:,:,2)\n",
      "[[29 32 35]\n",
      " [38 41 44]\n",
      " [47 50 53]]\n",
      "Horizontal Slice of tensor(2,:,:,0)\n",
      "[[54 57 60]\n",
      " [63 66 69]\n",
      " [72 75 78]]\n",
      "Horizontal Slice of tensor(2,:,:,1)\n",
      "[[55 58 61]\n",
      " [64 67 70]\n",
      " [73 76 79]]\n",
      "Horizontal Slice of tensor(2,:,:,2)\n",
      "[[56 59 62]\n",
      " [65 68 71]\n",
      " [74 77 80]]\n"
     ]
    }
   ],
   "source": [
    "# Display slices\n",
    "# Slice = fixing all modes except two\n",
    "# Horizontal slice = mode 1\n",
    "for i in range(0,3):\n",
    "    for j in range(0,3):\n",
    "        print(f'Horizontal Slice of tensor({i},:,:,{j})')\n",
    "        print(tensor.data[i,:,:,j])"
   ]
  },
  {
   "cell_type": "code",
   "execution_count": 15,
   "metadata": {},
   "outputs": [
    {
     "name": "stdout",
     "output_type": "stream",
     "text": [
      "[ 0  9 18]\n",
      "[27 36 45]\n",
      "[54 63 72]\n",
      "[ 3 12 21]\n",
      "[ 6 15 24]\n"
     ]
    }
   ],
   "source": [
    "# Display any 5 row fibers\n",
    "# Fibre = fixing all modes except one\n",
    "# Row fibre = mode 2\n",
    "print(tensor.data[0,:,0,0])\n",
    "print(tensor.data[1,:,0,0])\n",
    "print(tensor.data[2,:,0,0])\n",
    "print(tensor.data[0,:,1,0])\n",
    "print(tensor.data[0,:,2,0])"
   ]
  },
  {
   "cell_type": "markdown",
   "metadata": {},
   "source": [
    "### Solution: Part 2"
   ]
  },
  {
   "cell_type": "code",
   "execution_count": 16,
   "metadata": {},
   "outputs": [
    {
     "name": "stdout",
     "output_type": "stream",
     "text": [
      "Frontal Slice 1\n",
      "[[1. 1.]\n",
      " [1. 1.]\n",
      " [1. 1.]\n",
      " [1. 1.]]\n",
      "Frontal Slice 2\n",
      "[[2. 2.]\n",
      " [2. 2.]\n",
      " [2. 2.]\n",
      " [2. 2.]]\n",
      "Frontal Slice 3\n",
      "[[4. 4.]\n",
      " [4. 4.]\n",
      " [4. 4.]\n",
      " [4. 4.]]\n",
      "Frontal Slice 4\n",
      "[[8. 8.]\n",
      " [8. 8.]\n",
      " [8. 8.]\n",
      " [8. 8.]]\n",
      "Frontal Slice 5\n",
      "[[16. 16.]\n",
      " [16. 16.]\n",
      " [16. 16.]\n",
      " [16. 16.]]\n"
     ]
    }
   ],
   "source": [
    "# Create a tensor of order 3\n",
    "array_3d = np.ones(40).reshape((4,2,5))\n",
    "tensor =  Tensor(array_3d)\n",
    "\n",
    "# frontal slice is = [:,:,k]\n",
    "for i in range(0, tensor.shape[2]):\n",
    "    tensor.data[:,:,i] = 2**i\n",
    "    print('Frontal Slice {a}'.format(a=i+1))\n",
    "    print(tensor.data[:,:,i])"
   ]
  },
  {
   "cell_type": "markdown",
   "metadata": {
    "toc-hr-collapsed": false
   },
   "source": [
    "# Unfolding\n",
    "\n",
    "Conventionally, unfolding is considered to be a process of element mapping from a tensor to a matrix. In other words, it arranges the mode-$n$ fibers of a tensor to be the matrix columns. Thus, the mode-$n$ unfolding is denoted as:\n",
    "\n",
    "$$\\mathbf{\\underline{A}} \\xrightarrow{n} \\mathbf{A}_{(n)}$$\n",
    "\n",
    "Thus, this operations requires to specify a mode along which a tensor will be unfolded. For a third order tensor, a visual representation of such operation is as following\n",
    "\n",
    "<img src=\"./imgs/unfolding.png\" alt=\"Drawing\" style=\"width: 600px;\"/>\n",
    "\n",
    "In `hottbox` this functionality is available through the corresponding methods of the `Tensor` object, for instance:"
   ]
  },
  {
   "cell_type": "code",
   "execution_count": 17,
   "metadata": {},
   "outputs": [
    {
     "name": "stdout",
     "output_type": "stream",
     "text": [
      "This tensor is of order 2 and consists of 24 elements.\n",
      "Sizes and names of its modes are (2, 12) and ['mode-0', 'mode-1_mode-2'] respectively.\n"
     ]
    },
    {
     "data": {
      "text/plain": [
       "array([[ 0,  1,  2,  3,  4,  5,  6,  7,  8,  9, 10, 11],\n",
       "       [12, 13, 14, 15, 16, 17, 18, 19, 20, 21, 22, 23]])"
      ]
     },
     "execution_count": 17,
     "metadata": {},
     "output_type": "execute_result"
    }
   ],
   "source": [
    "# Create 3-d array of data\n",
    "array_3d = np.arange(24).reshape((2, 3, 4))\n",
    "\n",
    "# Create tensor\n",
    "tensor = Tensor(array_3d)\n",
    "\n",
    "# Unfolding of a tensor\n",
    "tensor.unfold(mode=0)\n",
    "\n",
    "# Result preview\n",
    "print(tensor)\n",
    "tensor.data"
   ]
  },
  {
   "cell_type": "markdown",
   "metadata": {
    "toc-hr-collapsed": true
   },
   "source": [
    "## **Assigment 3**\n",
    "\n",
    "1. Create a tensor, $\\mathbf{\\underline{A}}$, of order 4, in such a way that its version unfolded along the second mode would have sizes `(5,72)`, that is $\\mathbf{A}_{(n)} \\in  \\mathbb{R}^{5 \\times 72}$. Validate your results by displaying the unfolded tensor."
   ]
  },
  {
   "cell_type": "markdown",
   "metadata": {},
   "source": [
    "### Solution : Part 1"
   ]
  },
  {
   "cell_type": "code",
   "execution_count": 18,
   "metadata": {},
   "outputs": [
    {
     "name": "stdout",
     "output_type": "stream",
     "text": [
      "This tensor is of order 4 and consists of 360 elements.\n",
      "Sizes and names of its modes are (8, 5, 3, 3) and ['mode-0', 'mode-1', 'mode-2', 'mode-3'] respectively.\n"
     ]
    }
   ],
   "source": [
    "# Create a tensor\n",
    "sizes = (8,5,3,3) # 8*3*3 = 72 elements, mode-2 = 5\n",
    "tensor = Tensor(np.arange(np.prod(sizes)).reshape(sizes))\n",
    "print(tensor)"
   ]
  },
  {
   "cell_type": "code",
   "execution_count": 19,
   "metadata": {},
   "outputs": [
    {
     "name": "stdout",
     "output_type": "stream",
     "text": [
      "This tensor is of order 2 and consists of 360 elements.\n",
      "Sizes and names of its modes are (5, 72) and ['mode-1', 'mode-0_mode-2_mode-3'] respectively.\n"
     ]
    },
    {
     "data": {
      "text/plain": [
       "array([[  0,   1,   2,   3,   4,   5,   6,   7,   8,  45,  46,  47,  48,\n",
       "         49,  50,  51,  52,  53,  90,  91,  92,  93,  94,  95,  96,  97,\n",
       "         98, 135, 136, 137, 138, 139, 140, 141, 142, 143, 180, 181, 182,\n",
       "        183, 184, 185, 186, 187, 188, 225, 226, 227, 228, 229, 230, 231,\n",
       "        232, 233, 270, 271, 272, 273, 274, 275, 276, 277, 278, 315, 316,\n",
       "        317, 318, 319, 320, 321, 322, 323],\n",
       "       [  9,  10,  11,  12,  13,  14,  15,  16,  17,  54,  55,  56,  57,\n",
       "         58,  59,  60,  61,  62,  99, 100, 101, 102, 103, 104, 105, 106,\n",
       "        107, 144, 145, 146, 147, 148, 149, 150, 151, 152, 189, 190, 191,\n",
       "        192, 193, 194, 195, 196, 197, 234, 235, 236, 237, 238, 239, 240,\n",
       "        241, 242, 279, 280, 281, 282, 283, 284, 285, 286, 287, 324, 325,\n",
       "        326, 327, 328, 329, 330, 331, 332],\n",
       "       [ 18,  19,  20,  21,  22,  23,  24,  25,  26,  63,  64,  65,  66,\n",
       "         67,  68,  69,  70,  71, 108, 109, 110, 111, 112, 113, 114, 115,\n",
       "        116, 153, 154, 155, 156, 157, 158, 159, 160, 161, 198, 199, 200,\n",
       "        201, 202, 203, 204, 205, 206, 243, 244, 245, 246, 247, 248, 249,\n",
       "        250, 251, 288, 289, 290, 291, 292, 293, 294, 295, 296, 333, 334,\n",
       "        335, 336, 337, 338, 339, 340, 341],\n",
       "       [ 27,  28,  29,  30,  31,  32,  33,  34,  35,  72,  73,  74,  75,\n",
       "         76,  77,  78,  79,  80, 117, 118, 119, 120, 121, 122, 123, 124,\n",
       "        125, 162, 163, 164, 165, 166, 167, 168, 169, 170, 207, 208, 209,\n",
       "        210, 211, 212, 213, 214, 215, 252, 253, 254, 255, 256, 257, 258,\n",
       "        259, 260, 297, 298, 299, 300, 301, 302, 303, 304, 305, 342, 343,\n",
       "        344, 345, 346, 347, 348, 349, 350],\n",
       "       [ 36,  37,  38,  39,  40,  41,  42,  43,  44,  81,  82,  83,  84,\n",
       "         85,  86,  87,  88,  89, 126, 127, 128, 129, 130, 131, 132, 133,\n",
       "        134, 171, 172, 173, 174, 175, 176, 177, 178, 179, 216, 217, 218,\n",
       "        219, 220, 221, 222, 223, 224, 261, 262, 263, 264, 265, 266, 267,\n",
       "        268, 269, 306, 307, 308, 309, 310, 311, 312, 313, 314, 351, 352,\n",
       "        353, 354, 355, 356, 357, 358, 359]])"
      ]
     },
     "execution_count": 19,
     "metadata": {},
     "output_type": "execute_result"
    }
   ],
   "source": [
    "# Display unfolded version\n",
    "tensor.unfold(mode=1)\n",
    "print(tensor)\n",
    "tensor.data"
   ]
  },
  {
   "cell_type": "markdown",
   "metadata": {
    "toc-hr-collapsed": false
   },
   "source": [
    "# Mode-n product \n",
    "<img src=\"./imgs/mode_n_product.png\" alt=\"Drawing\" style=\"width: 600px;\"/>\n",
    "\n",
    "The mode-$n$ product is a multiplication of a tensor  by a matrix along the $n^{th}$ mode of a tensor. This essentially means that each mode-$n$ fiber should be multiplied by this matrix. Mathematically, this can be expressed as:\n",
    "\n",
    "$$\\mathbf{\\underline{X}} \\times_n \\mathbf{A} = \\mathbf{\\underline{Y}} \\quad \\Leftrightarrow  \\quad \\mathbf{Y}_{(n)} = \\mathbf{A} \\mathbf{X}_{(n)}  $$"
   ]
  },
  {
   "cell_type": "code",
   "execution_count": 20,
   "metadata": {},
   "outputs": [
    {
     "name": "stdout",
     "output_type": "stream",
     "text": [
      "This tensor is of order 3 and consists of 40 elements.\n",
      "Sizes and names of its modes are (2, 5, 4) and ['mode-0', 'mode-1', 'mode-2'] respectively.\n"
     ]
    },
    {
     "data": {
      "text/plain": [
       "array([[ 20,  23,  26,  29,  56,  59,  62,  65],\n",
       "       [ 56,  68,  80,  92, 200, 212, 224, 236],\n",
       "       [ 92, 113, 134, 155, 344, 365, 386, 407],\n",
       "       [128, 158, 188, 218, 488, 518, 548, 578],\n",
       "       [164, 203, 242, 281, 632, 671, 710, 749]])"
      ]
     },
     "execution_count": 20,
     "metadata": {},
     "output_type": "execute_result"
    }
   ],
   "source": [
    "I, J, K = 2, 3, 4\n",
    "J_new = 5\n",
    "\n",
    "# Create tensor\n",
    "array_3d = np.arange(I * J * K).reshape(I, J ,K)\n",
    "X = Tensor(array_3d)\n",
    "\n",
    "# Create matrix\n",
    "A = np.arange(J_new * J).reshape(J_new, J)\n",
    "\n",
    "# Performs Mode-n product \n",
    "Y = X.mode_n_product(A, mode=1, inplace=False)\n",
    "\n",
    "# Preview of resulting tensor\n",
    "print(Y)\n",
    "\n",
    "# Preview of its unfolded version\n",
    "Y.unfold(mode=1, inplace=False).data"
   ]
  },
  {
   "cell_type": "markdown",
   "metadata": {
    "toc-hr-collapsed": true
   },
   "source": [
    "## **Assignment 4**\n",
    "\n",
    "1. Perform the mode-$n$ product of a 3-rd order tensor, $\\mathbf{\\underline{X}}$, with a matrix, $\\mathbf{A} \\in  \\mathbb{R}^{5 \\times 4}$, provided that the resulting tensor, $\\mathbf{\\underline{Y}}$, consists of `100` elements. Validate your results. \n",
    "\n",
    "> **Note:** You are encouraged to experiment with the optional parameter `inplace` and to investigate its effect on the result."
   ]
  },
  {
   "cell_type": "markdown",
   "metadata": {},
   "source": [
    "### Solution: Part 1"
   ]
  },
  {
   "cell_type": "code",
   "execution_count": 21,
   "metadata": {},
   "outputs": [
    {
     "name": "stdout",
     "output_type": "stream",
     "text": [
      "This tensor is of order 3 and consists of 80 elements.\n",
      "Sizes and names of its modes are (4, 4, 5) and ['mode-0', 'mode-1', 'mode-2'] respectively.\n"
     ]
    },
    {
     "data": {
      "text/plain": [
       "array([[[ 0,  1,  2,  3,  4],\n",
       "        [ 5,  6,  7,  8,  9],\n",
       "        [10, 11, 12, 13, 14],\n",
       "        [15, 16, 17, 18, 19]],\n",
       "\n",
       "       [[20, 21, 22, 23, 24],\n",
       "        [25, 26, 27, 28, 29],\n",
       "        [30, 31, 32, 33, 34],\n",
       "        [35, 36, 37, 38, 39]],\n",
       "\n",
       "       [[40, 41, 42, 43, 44],\n",
       "        [45, 46, 47, 48, 49],\n",
       "        [50, 51, 52, 53, 54],\n",
       "        [55, 56, 57, 58, 59]],\n",
       "\n",
       "       [[60, 61, 62, 63, 64],\n",
       "        [65, 66, 67, 68, 69],\n",
       "        [70, 71, 72, 73, 74],\n",
       "        [75, 76, 77, 78, 79]]])"
      ]
     },
     "execution_count": 21,
     "metadata": {},
     "output_type": "execute_result"
    }
   ],
   "source": [
    "# Create original tensor \n",
    "I, J, K = 4, 4, 5 # 4x4x5 = 80 elements\n",
    "J_new = 5 # changing mode-2 to 5, 4x5x5 = 100 elements\n",
    "\n",
    "# Create tensor\n",
    "array_3d = np.arange(I * J * K).reshape(I, J ,K)\n",
    "X = Tensor(array_3d)\n",
    "\n",
    "#Preview of the resulting tensor\n",
    "print(X)\n",
    "X.data"
   ]
  },
  {
   "cell_type": "code",
   "execution_count": 22,
   "metadata": {},
   "outputs": [
    {
     "name": "stdout",
     "output_type": "stream",
     "text": [
      "[[ 0  1  2  3]\n",
      " [ 4  5  6  7]\n",
      " [ 8  9 10 11]\n",
      " [12 13 14 15]\n",
      " [16 17 18 19]]\n"
     ]
    }
   ],
   "source": [
    "# Create matrix\n",
    "A = np.arange(J_new*J).reshape(J_new,J)\n",
    "print(A)"
   ]
  },
  {
   "cell_type": "code",
   "execution_count": 23,
   "metadata": {},
   "outputs": [
    {
     "name": "stdout",
     "output_type": "stream",
     "text": [
      "This tensor is of order 3 and consists of 100 elements.\n",
      "Sizes and names of its modes are (4, 5, 5) and ['mode-0', 'mode-1', 'mode-2'] respectively.\n",
      "Unfolded version of the resulting tensor Y:\n",
      "[[  70   76   82   88   94  190  196  202  208  214  310  316  322  328\n",
      "   334  430  436  442  448  454]\n",
      " [ 190  212  234  256  278  630  652  674  696  718 1070 1092 1114 1136\n",
      "  1158 1510 1532 1554 1576 1598]\n",
      " [ 310  348  386  424  462 1070 1108 1146 1184 1222 1830 1868 1906 1944\n",
      "  1982 2590 2628 2666 2704 2742]\n",
      " [ 430  484  538  592  646 1510 1564 1618 1672 1726 2590 2644 2698 2752\n",
      "  2806 3670 3724 3778 3832 3886]\n",
      " [ 550  620  690  760  830 1950 2020 2090 2160 2230 3350 3420 3490 3560\n",
      "  3630 4750 4820 4890 4960 5030]]\n"
     ]
    }
   ],
   "source": [
    "# Perform mode-n product \n",
    "# inplace = True will change the original tensor \n",
    "Y = X.mode_n_product(A, mode=1, inplace=False) # changes the dimension of second mode to 5\n",
    "print(Y)\n",
    "\n",
    "print(\"Unfolded version of the resulting tensor Y:\")\n",
    "Y = Y.unfold(mode=1, inplace=False).data\n",
    "print(Y)"
   ]
  },
  {
   "cell_type": "code",
   "execution_count": 24,
   "metadata": {},
   "outputs": [
    {
     "name": "stdout",
     "output_type": "stream",
     "text": [
      "[[  70   76   82   88   94  190  196  202  208  214  310  316  322  328\n",
      "   334  430  436  442  448  454]\n",
      " [ 190  212  234  256  278  630  652  674  696  718 1070 1092 1114 1136\n",
      "  1158 1510 1532 1554 1576 1598]\n",
      " [ 310  348  386  424  462 1070 1108 1146 1184 1222 1830 1868 1906 1944\n",
      "  1982 2590 2628 2666 2704 2742]\n",
      " [ 430  484  538  592  646 1510 1564 1618 1672 1726 2590 2644 2698 2752\n",
      "  2806 3670 3724 3778 3832 3886]\n",
      " [ 550  620  690  760  830 1950 2020 2090 2160 2230 3350 3420 3490 3560\n",
      "  3630 4750 4820 4890 4960 5030]]\n",
      "Checking if Y = AX:\n"
     ]
    },
    {
     "data": {
      "text/plain": [
       "True"
      ]
     },
     "execution_count": 24,
     "metadata": {},
     "output_type": "execute_result"
    }
   ],
   "source": [
    "# Validate equivalence between the left and right hand side\n",
    "# Check if Y = AX\n",
    "\n",
    "# Calculate the product between A and X\n",
    "AX = A@X.unfold(mode=1, inplace=False).data\n",
    "print(AX)\n",
    "\n",
    "# check if AX and Y are all the same\n",
    "print(\"Checking if Y = AX:\")\n",
    "np.allclose(AX, Y.data)"
   ]
  },
  {
   "cell_type": "markdown",
   "metadata": {},
   "source": [
    "# Properties of mode-n product\n",
    "\n",
    "1. For distinct modes in a series of multiplications, the order of the multiplication is irrelevent: \n",
    "\n",
    "    $$\\mathbf{\\underline{X}} \\times_n \\mathbf{A} \\times_m \\mathbf{B} = \\mathbf{\\underline{X}} \\times_m \\mathbf{B} \\times_n \\mathbf{A} \\quad (m \\neq n)$$\n",
    "\n",
    "1. However, this does not hold if the modes are the same :\n",
    "\n",
    "    $$\\mathbf{\\underline{X}} \\times_n \\mathbf{A} \\times_n \\mathbf{B} = \\mathbf{\\underline{X}} \\times_n (\\mathbf{B}\\mathbf{A})$$"
   ]
  },
  {
   "cell_type": "markdown",
   "metadata": {
    "toc-hr-collapsed": true
   },
   "source": [
    "## **Assignment 5**\n",
    "\n",
    "1. Validate both of the above properties empirically \n",
    "2. Prove the second property analytically\n",
    "\n",
    "> **Note:** Be aware of consequences of the optional parameter `inplace` (its default value is set to `True`)."
   ]
  },
  {
   "cell_type": "markdown",
   "metadata": {},
   "source": [
    "### Solution: Part 1"
   ]
  },
  {
   "cell_type": "code",
   "execution_count": 25,
   "metadata": {},
   "outputs": [
    {
     "name": "stdout",
     "output_type": "stream",
     "text": [
      "This tensor is of order 3 and consists of 24 elements.\n",
      "Sizes and names of its modes are (2, 3, 4) and ['mode-0', 'mode-1', 'mode-2'] respectively.\n"
     ]
    }
   ],
   "source": [
    "# Create tensor\n",
    "I, J, K = 2, 3, 4\n",
    "array_3d = np.arange(I * J * K).reshape(I, J, K)\n",
    "X = Tensor(array_3d)\n",
    "print(X)"
   ]
  },
  {
   "cell_type": "code",
   "execution_count": 26,
   "metadata": {},
   "outputs": [],
   "source": [
    "# Create matrices\n",
    "J_A = 4 # Matrix A to alter J\n",
    "K_B = 3 # Matrix B to alter K\n",
    "A = np.arange(J_A * J).reshape(J_A, J) # 4 x 3\n",
    "B = np.arange(K_B * K).reshape(K_B, K) # 3 x 4"
   ]
  },
  {
   "cell_type": "code",
   "execution_count": 27,
   "metadata": {},
   "outputs": [
    {
     "data": {
      "text/plain": [
       "True"
      ]
     },
     "execution_count": 27,
     "metadata": {},
     "output_type": "execute_result"
    }
   ],
   "source": [
    "# Validate property 1\n",
    "X_AB = X.mode_n_product(A, mode = 1, inplace = False).mode_n_product(B, mode = 2, inplace = False)\n",
    "X_BA = X.mode_n_product(B, mode = 2, inplace = False).mode_n_product(A, mode = 1, inplace = False)\n",
    "\n",
    "# Validate equivalence\n",
    "np.allclose(X_AB.data, X_BA.data) # will print true or false"
   ]
  },
  {
   "cell_type": "code",
   "execution_count": 28,
   "metadata": {},
   "outputs": [
    {
     "data": {
      "text/plain": [
       "True"
      ]
     },
     "execution_count": 28,
     "metadata": {},
     "output_type": "execute_result"
    }
   ],
   "source": [
    "# Validate property 2\n",
    "X_AB = X.mode_n_product(A, mode = 1, inplace = False).mode_n_product(B, mode = 1, inplace = False) # LHS\n",
    "X_BA = X.mode_n_product(B @ A, mode = 1, inplace = False) # RHS\n",
    "\n",
    "#Validate equivalence\n",
    "np.allclose(X_AB.data, X_BA.data) # will print true or false"
   ]
  },
  {
   "cell_type": "markdown",
   "metadata": {
    "toc-hr-collapsed": true
   },
   "source": [
    "### Solution: Part 2\n",
    "\n",
    "Use [LaTeX syntax](https://stackoverflow.com/questions/13208286/how-to-write-latex-in-ipython-notebook) for analytical deriviations for the second property below.\n"
   ]
  },
  {
   "cell_type": "code",
   "execution_count": 56,
   "metadata": {},
   "outputs": [
    {
     "data": {
      "text/latex": [
       "\n",
       "Given a tensor $X$ of order $N$:\n",
       "    $$\\underline{{X}} \\in \\mathbb{R}^{I_1 \\times I_2 \\times \\ldots \\times I_N}$$\n",
       "Where $I_{n}$ indexes each constituent mode. Its n-mode product with a matrix $A$ is defined as the multiplication of the tensor by the matrix along the $n^{th}$ mode, where essentially every mode-$n$ fibre is multiplied by $A$. The resulting tensor is denoted as $\\underline{Y}$:\n",
       "    $$\\underline{{Y}} = \\underline{{X}} \\times_n {A} \\quad \\Leftrightarrow \\quad {Y}_{(n)} = {A}{X}_{(n)}$$ \n",
       "Where the LHS is the n-mode product of $\\underline{{X}}$ and ${A}$ resulting in $\\underline{{Y}}$, and the RHS is the matrix multiplication of ${A}$ and the mode-$n$ unfolding of $\\underline{{X}}$ resulting in the mode-$n$ unfolding of $\\underline{{Y}}$. The entries of $\\underline{{Y}}$ can be expressed as:\n",
       "    $${Y}_{(i_1, \\ldots, i_{n-1}, j_{n}, i_{n+1}, \\ldots, i_N)} = \\sum_{i_n} {A}_{(j_{n}, i_{n})} {X}_{(i_1, \\ldots, i_{n-1}, i_n, i_{n+1}, \\ldots, i_N)}$$\n",
       "If we now perform the n-mode product of $\\underline{{Y}}$ with another matrix ${B}$ along the $n^{th}$ mode, the resulting tensor $\\underline{{Z}}$ can be expressed as:\n",
       "    $${Z}_{(j_1, \\ldots, j_{n-1}, k_{n}, j_{n+1}, \\ldots, j_N)} = \\sum_{j_n} {B}_{(k_{n}, j_{n})} {Y}_{(j_1, \\ldots, j_{n-1}, j_n, j_{n+1}, \\ldots, j_N)}$$\n",
       "By substituting in the entries of $\\underline{{Y}}$, we get:\n",
       "    $${Z}_{(j_1, \\ldots, j_{n-1}, k_{n}, j_{n+1}, \\ldots, j_N)} = \\sum_{j_n} {B}_{(k_{n}, j_{n})} \\sum_{i_{n}} {A}_{(j_{n}, i_{n})} {X}_{(i_1, \\ldots, i_{n-1}, i_{n}, i_{n+1}, \\ldots, i_N)}$$\n",
       "    $${Z}_{(j_1, \\ldots, j_{n-1}, k_{n}, j_{n+1}, \\ldots, j_N)} = \\sum_{j_{n}} \\sum_{i_n} {B}_{(k_{n}, j_{n})} {A}_{(j_{n}, i_{n})} {X}_{(i_1, \\ldots, i_{n-1}, i_{n}, i_{n+1}, \\ldots, i_N)}$$\n",
       "    $${Z}_{(j_1, \\ldots, j_{n-1}, k_{n}, j_{n+1}, \\ldots, j_N)} = \\sum_{i_{n}} \\left({B}{A}\\right)_{(k_{n}, i_{n})} {X}_{(i_1, \\ldots, i_{n-1}, i_{n}, i_{n+1}, \\ldots, i_N)}$$\n",
       "    $${Z}_{(j_1, \\ldots, j_{n-1}, k_{n}, j_{n+1}, \\ldots, j_N)} = \\left({B}{A}\\right) {X}_{(i_1, \\ldots, i_{n-1}, i_{n}, i_{n+1}, \\ldots, i_N)}$$\n",
       "Which is equivalent to the n-mode product of $\\underline{{X}}$ with the matrix product of ${B}$ and ${A}$:\n",
       "    $$\\underline{{Z}} = \\underline{{X}} \\times_n \\left({B}{A}\\right)$$\n",
       "Therefore, we have shown that:\n",
       "    $$\\underline{{X}} \\times_n {A} \\times_n {B} = \\underline{{X}} \\times_n \\left({B}{A}\\right)$$\n",
       "Which completes the analytical proof for the second property.\n"
      ],
      "text/plain": [
       "<IPython.core.display.Latex object>"
      ]
     },
     "metadata": {},
     "output_type": "display_data"
    }
   ],
   "source": [
    "%%latex\n",
    "\n",
    "Given a tensor $X$ of order $N$:\n",
    "    $$\\underline{{X}} \\in \\mathbb{R}^{I_1 \\times I_2 \\times \\ldots \\times I_N}$$\n",
    "Where $I_{n}$ indexes each constituent mode. Its n-mode product with a matrix $A$ is defined as the multiplication of the tensor by the matrix along the $n^{th}$ mode, where essentially every mode-$n$ fibre is multiplied by $A$. The resulting tensor is denoted as $\\underline{Y}$:\n",
    "    $$\\underline{{Y}} = \\underline{{X}} \\times_n {A} \\quad \\Leftrightarrow \\quad {Y}_{(n)} = {A}{X}_{(n)}$$ \n",
    "Where the LHS is the n-mode product of $\\underline{{X}}$ and ${A}$ resulting in $\\underline{{Y}}$, and the RHS is the matrix multiplication of ${A}$ and the mode-$n$ unfolding of $\\underline{{X}}$ resulting in the mode-$n$ unfolding of $\\underline{{Y}}$. The entries of $\\underline{{Y}}$ can be expressed as:\n",
    "    $${Y}_{(i_1, \\ldots, i_{n-1}, j_{n}, i_{n+1}, \\ldots, i_N)} = \\sum_{i_n} {A}_{(j_{n}, i_{n})} {X}_{(i_1, \\ldots, i_{n-1}, i_n, i_{n+1}, \\ldots, i_N)}$$\n",
    "If we now perform the n-mode product of $\\underline{{Y}}$ with another matrix ${B}$ along the $n^{th}$ mode, the resulting tensor $\\underline{{Z}}$ can be expressed as:\n",
    "    $${Z}_{(j_1, \\ldots, j_{n-1}, k_{n}, j_{n+1}, \\ldots, j_N)} = \\sum_{j_n} {B}_{(k_{n}, j_{n})} {Y}_{(j_1, \\ldots, j_{n-1}, j_n, j_{n+1}, \\ldots, j_N)}$$\n",
    "By substituting in the entries of $\\underline{{Y}}$, we get:\n",
    "    $${Z}_{(j_1, \\ldots, j_{n-1}, k_{n}, j_{n+1}, \\ldots, j_N)} = \\sum_{j_n} {B}_{(k_{n}, j_{n})} \\sum_{i_{n}} {A}_{(j_{n}, i_{n})} {X}_{(i_1, \\ldots, i_{n-1}, i_{n}, i_{n+1}, \\ldots, i_N)}$$\n",
    "    $${Z}_{(j_1, \\ldots, j_{n-1}, k_{n}, j_{n+1}, \\ldots, j_N)} = \\sum_{j_{n}} \\sum_{i_n} {B}_{(k_{n}, j_{n})} {A}_{(j_{n}, i_{n})} {X}_{(i_1, \\ldots, i_{n-1}, i_{n}, i_{n+1}, \\ldots, i_N)}$$\n",
    "    $${Z}_{(j_1, \\ldots, j_{n-1}, k_{n}, j_{n+1}, \\ldots, j_N)} = \\sum_{i_{n}} \\left({B}{A}\\right)_{(k_{n}, i_{n})} {X}_{(i_1, \\ldots, i_{n-1}, i_{n}, i_{n+1}, \\ldots, i_N)}$$\n",
    "    $${Z}_{(j_1, \\ldots, j_{n-1}, k_{n}, j_{n+1}, \\ldots, j_N)} = \\left({B}{A}\\right) {X}_{(i_1, \\ldots, i_{n-1}, i_{n}, i_{n+1}, \\ldots, i_N)}$$\n",
    "Which is equivalent to the n-mode product of $\\underline{{X}}$ with the matrix product of ${B}$ and ${A}$:\n",
    "    $$\\underline{{Z}} = \\underline{{X}} \\times_n \\left({B}{A}\\right)$$\n",
    "Therefore, we have shown that:\n",
    "    $$\\underline{{X}} \\times_n {A} \\times_n {B} = \\underline{{X}} \\times_n \\left({B}{A}\\right)$$\n",
    "Which completes the analytical proof for the second property."
   ]
  }
 ],
 "metadata": {
  "kernelspec": {
   "display_name": "dpm-coursework",
   "language": "python",
   "name": "python3"
  },
  "language_info": {
   "codemirror_mode": {
    "name": "ipython",
    "version": 3
   },
   "file_extension": ".py",
   "mimetype": "text/x-python",
   "name": "python",
   "nbconvert_exporter": "python",
   "pygments_lexer": "ipython3",
   "version": "3.7.16"
  },
  "toc-autonumbering": false,
  "toc-showcode": false,
  "toc-showmarkdowntxt": false
 },
 "nbformat": 4,
 "nbformat_minor": 2
}
